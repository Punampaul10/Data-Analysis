{
  "nbformat": 4,
  "nbformat_minor": 0,
  "metadata": {
    "colab": {
      "provenance": [],
      "authorship_tag": "ABX9TyOx633hFnTZT9k2JILF8dBB",
      "include_colab_link": true
    },
    "kernelspec": {
      "name": "python3",
      "display_name": "Python 3"
    },
    "language_info": {
      "name": "python"
    }
  },
  "cells": [
    {
      "cell_type": "markdown",
      "metadata": {
        "id": "view-in-github",
        "colab_type": "text"
      },
      "source": [
        "<a href=\"https://colab.research.google.com/github/Punampaul10/Data-Analysis/blob/main/Assighnment1.ipynb\" target=\"_parent\"><img src=\"https://colab.research.google.com/assets/colab-badge.svg\" alt=\"Open In Colab\"/></a>"
      ]
    },
    {
      "cell_type": "markdown",
      "source": [
        "#Problem 1 - Variables and Data Types\n",
        "Q1: Assign your name to the variable name."
      ],
      "metadata": {
        "id": "SQl0XY6p2KOU"
      }
    },
    {
      "cell_type": "code",
      "execution_count": null,
      "metadata": {
        "colab": {
          "base_uri": "https://localhost:8080/",
          "height": 35
        },
        "id": "IR7HZPr92ARo",
        "outputId": "a1e3017f-130b-4747-cf61-51261b6d9dfd"
      },
      "outputs": [
        {
          "output_type": "execute_result",
          "data": {
            "text/plain": [
              "'punam'"
            ],
            "application/vnd.google.colaboratory.intrinsic+json": {
              "type": "string"
            }
          },
          "metadata": {},
          "execution_count": 2
        }
      ],
      "source": [
        "name = \"punam\"\n",
        "name\n"
      ]
    },
    {
      "cell_type": "markdown",
      "source": [
        "Q2: Assign your age (real or fake) to the variable age."
      ],
      "metadata": {
        "id": "30UzMDn93gcF"
      }
    },
    {
      "cell_type": "code",
      "source": [
        "age = 22\n",
        "print(\"Age is :\",age)"
      ],
      "metadata": {
        "colab": {
          "base_uri": "https://localhost:8080/"
        },
        "id": "SqvqNXBQ2icF",
        "outputId": "65c35aac-6575-41d7-cc88-956993b2ded5"
      },
      "execution_count": null,
      "outputs": [
        {
          "output_type": "stream",
          "name": "stdout",
          "text": [
            "Age is : 22\n"
          ]
        }
      ]
    },
    {
      "cell_type": "markdown",
      "source": [
        "Q3:Assign a boolean value to the variable has_android_phone."
      ],
      "metadata": {
        "id": "HpS_aKDp3_S0"
      }
    },
    {
      "cell_type": "code",
      "source": [
        "has_android_phone = False\n",
        "has_android_phone"
      ],
      "metadata": {
        "colab": {
          "base_uri": "https://localhost:8080/"
        },
        "id": "P6L0UPfz4E3c",
        "outputId": "0ec2c355-3244-40aa-eba7-17e5c6218a96"
      },
      "execution_count": null,
      "outputs": [
        {
          "output_type": "execute_result",
          "data": {
            "text/plain": [
              "False"
            ]
          },
          "metadata": {},
          "execution_count": 5
        }
      ]
    },
    {
      "cell_type": "markdown",
      "source": [
        "Q4: Create a dictionary person with keys \"Name\", \"Age\", \"HasAndroidPhone\" and values using the variables defined above."
      ],
      "metadata": {
        "id": "8DexxpJc4978"
      }
    },
    {
      "cell_type": "code",
      "source": [
        "person = {\n",
        "    \"Name\": \"Punam\",\n",
        "    \"Age\": 22,\n",
        "    \"HasAndroidPhone\": False\n",
        "}\n",
        "\n",
        "print(\"{} is aged {},\\nAnd owns an {}.\".format(\n",
        "    person[\"Name\"],\n",
        "    person[\"Age\"],\n",
        "    \"Android phone\" if person[\"HasAndroidPhone\"] else \"iPhone\"\n",
        "))\n"
      ],
      "metadata": {
        "colab": {
          "base_uri": "https://localhost:8080/"
        },
        "id": "8eYYsCoH4_os",
        "outputId": "a338eae2-f212-4626-8569-88301a16777d"
      },
      "execution_count": null,
      "outputs": [
        {
          "output_type": "stream",
          "name": "stdout",
          "text": [
            "Punam is aged 22,\n",
            "And owns an iPhone.\n"
          ]
        }
      ]
    },
    {
      "cell_type": "markdown",
      "source": [
        "Q4b (Optional): Use a for loop to display the type of each value stored against each key in person.\n",
        "\n",
        "Here's the expected output for the key \"Name\":\n",
        "\n",
        "The key \"Name\" has the value \"Derek\" of the type \"<class 'str'>\""
      ],
      "metadata": {
        "id": "DYF086pjBPc_"
      }
    },
    {
      "cell_type": "code",
      "source": [
        "person = {\n",
        "    \"Name\": \"Derek\",\n",
        "    \"Age\": 22,\n",
        "    \"HasAndroidPhone\": True\n",
        "}\n",
        "\n",
        "for key, value in person.items():\n",
        "    print(f'The key \"{key}\" has the value \"{value}\" of the type \"{type(value)}\"')\n"
      ],
      "metadata": {
        "colab": {
          "base_uri": "https://localhost:8080/"
        },
        "id": "g1_IFfZsBkbF",
        "outputId": "04b5a319-f484-4503-dad8-b27bc75e092b"
      },
      "execution_count": null,
      "outputs": [
        {
          "output_type": "stream",
          "name": "stdout",
          "text": [
            "The key \"Name\" has the value \"Derek\" of the type \"<class 'str'>\"\n",
            "The key \"Age\" has the value \"22\" of the type \"<class 'int'>\"\n",
            "The key \"HasAndroidPhone\" has the value \"True\" of the type \"<class 'bool'>\"\n"
          ]
        }
      ]
    },
    {
      "cell_type": "markdown",
      "source": [
        "#Problem 2 - Working with Lists\n",
        "Q5: Create a list containing the following 3 elements:\n",
        "\n",
        "your favorite color\n",
        "the number of pets you have\n",
        "a boolean value describing whether you have previous programming experience"
      ],
      "metadata": {
        "id": "GDT3cnjaCWbP"
      }
    },
    {
      "cell_type": "code",
      "source": [
        "my_list = \"blue\", 0, True\n",
        "my_list"
      ],
      "metadata": {
        "colab": {
          "base_uri": "https://localhost:8080/"
        },
        "id": "wWpozTfvCaDF",
        "outputId": "f323cb09-58be-4f4c-932a-b69487cc3c33"
      },
      "execution_count": null,
      "outputs": [
        {
          "output_type": "execute_result",
          "data": {
            "text/plain": [
              "('blue', 0, True)"
            ]
          },
          "metadata": {},
          "execution_count": 25
        }
      ]
    },
    {
      "cell_type": "markdown",
      "source": [
        "Q6: Complete the following print and if statements by accessing the appropriate elements from my_list.\n",
        "\n",
        "Hint: Use the list indexing notation []."
      ],
      "metadata": {
        "id": "tDzzGHFB8IMo"
      }
    },
    {
      "cell_type": "code",
      "source": [
        "print('My favorite color is {}.'.format(my_list[0]))\n",
        "print('I have {} pet(s).'.format(my_list[1]))\n",
        "if my_list[2]:\n",
        "  print(\"I have previous programming experience\")\n",
        "else:\n",
        "  print(\"I do not have previous programming experience\")"
      ],
      "metadata": {
        "colab": {
          "base_uri": "https://localhost:8080/"
        },
        "id": "fptqIjInEeWJ",
        "outputId": "e71086eb-5089-4e8d-d867-768389331364"
      },
      "execution_count": null,
      "outputs": [
        {
          "output_type": "stream",
          "name": "stdout",
          "text": [
            "My favorite color is blue.\n",
            "I have 0 pet(s).\n",
            "I have previous programming experience\n"
          ]
        }
      ]
    },
    {
      "cell_type": "code",
      "source": [
        "from google.colab import drive\n",
        "drive.mount('/content/drive')"
      ],
      "metadata": {
        "colab": {
          "base_uri": "https://localhost:8080/"
        },
        "id": "H3Yf2qKeFu44",
        "outputId": "542ef40d-08cc-4597-9a3c-f31fc160bbec"
      },
      "execution_count": null,
      "outputs": [
        {
          "output_type": "stream",
          "name": "stdout",
          "text": [
            "Mounted at /content/drive\n"
          ]
        }
      ]
    },
    {
      "cell_type": "markdown",
      "source": [
        "Q7: Add your favorite single digit number to the end of the list using the appropriate list method."
      ],
      "metadata": {
        "id": "uNiwErD-Htm4"
      }
    },
    {
      "cell_type": "code",
      "source": [
        "my_list = [2.3,4,5,6,7]\n",
        "favourite_number = 9\n",
        "my_list.append(favourite_number)\n",
        "(my_list)"
      ],
      "metadata": {
        "colab": {
          "base_uri": "https://localhost:8080/"
        },
        "id": "am7kT0F7Hu6_",
        "outputId": "ae120e1f-a427-4d5b-d6fe-8ef84e11df7f"
      },
      "execution_count": null,
      "outputs": [
        {
          "output_type": "execute_result",
          "data": {
            "text/plain": [
              "[2.3, 4, 5, 6, 7, 9]"
            ]
          },
          "metadata": {},
          "execution_count": 36
        }
      ]
    },
    {
      "cell_type": "markdown",
      "source": [
        "Q8: Remove the first element of the list, using the appropriate list method."
      ],
      "metadata": {
        "id": "zysn7YTtJOxB"
      }
    },
    {
      "cell_type": "code",
      "source": [
        "my_list = [2.3,4,5,6,7]\n",
        "first_element = 2.3\n",
        "my_list.remove(first_element)\n",
        "my_list\n",
        "\n"
      ],
      "metadata": {
        "colab": {
          "base_uri": "https://localhost:8080/"
        },
        "id": "rUzkDjv6JQx6",
        "outputId": "3863bdcd-ffde-4a9d-a0be-7e486eb7e2f5"
      },
      "execution_count": null,
      "outputs": [
        {
          "output_type": "execute_result",
          "data": {
            "text/plain": [
              "[4, 5, 6, 7]"
            ]
          },
          "metadata": {},
          "execution_count": 42
        }
      ]
    },
    {
      "cell_type": "markdown",
      "source": [
        "Q9: Complete the print statement below to display the number of elements in my_list.\n",
        "\n",
        "print(\"The list has {} elements.\".format(???))"
      ],
      "metadata": {
        "id": "m0cqp-vNM96Z"
      }
    },
    {
      "cell_type": "code",
      "source": [
        "my_list = [2.3,4,5,6,7]\n",
        "print(\"The list has {} elements.\".format(my_list [0:4] ))"
      ],
      "metadata": {
        "colab": {
          "base_uri": "https://localhost:8080/"
        },
        "id": "jiTJsn5kNDQo",
        "outputId": "0f2ae3e8-59f4-4e97-a467-94612b0685ad"
      },
      "execution_count": null,
      "outputs": [
        {
          "output_type": "stream",
          "name": "stdout",
          "text": [
            "The list has [2.3, 4, 5, 6] elements.\n"
          ]
        }
      ]
    },
    {
      "cell_type": "markdown",
      "source": [
        "#Problem 3 - Conditions and loops\n",
        "Q10: Calculate and display the sum of all the numbers divisible by 7 between 18 and 534 i.e. 21+28+35+...+525+532.\n",
        "\n",
        "Hint: One way to do this is to loop over a range using for and use an if statement inside it."
      ],
      "metadata": {
        "id": "vmbfaK3lPAV0"
      }
    },
    {
      "cell_type": "code",
      "source": [
        "sum_of_numbers = 0\n",
        "i = 0\n",
        "for i in range(18,534):\n",
        "  if i % 7 == 0:\n",
        "    sum_of_numbers += i\n",
        "    #print(\"The sum of all numbers divisible by 7 between 18 and 534 is:\",sum_of_numbers ) #Commented out to only print the final sum\n",
        "\n",
        "print(\"The sum of all numbers divisible by 7 between 18 and 534 is:\",sum_of_numbers )\n",
        "\n",
        "\n",
        "\n"
      ],
      "metadata": {
        "colab": {
          "base_uri": "https://localhost:8080/"
        },
        "id": "1VGt5hvnPLTK",
        "outputId": "3f68a9b1-ec97-4dcb-b530-e34fdbd797af"
      },
      "execution_count": null,
      "outputs": [
        {
          "output_type": "stream",
          "name": "stdout",
          "text": [
            "The sum of all numbers divisible by 7 between 18 and 534 is: 20461\n"
          ]
        }
      ]
    },
    {
      "cell_type": "markdown",
      "source": [
        "#Problem 4 - Flying to the Bahamas\n",
        "\n",
        "Q11: A travel company wants to fly a plane to the Bahamas. Flying the plane costs 5000 dollars. So far, 29 people have signed up for the trip. If the company charges 200 dollars per ticket, what is the profit made by the company?"
      ],
      "metadata": {
        "id": "ZiybxxxqVQqs"
      }
    },
    {
      "cell_type": "code",
      "source": [
        "cost_of_flying_plane = 5000\n",
        "number_of_passengers = 29\n",
        "price_of_ticket = 200\n",
        "profit = (number_of_passengers * price_of_ticket) - cost_of_flying_plane\n",
        "print('The company makes of a profit of {} dollars'.format(profit))"
      ],
      "metadata": {
        "colab": {
          "base_uri": "https://localhost:8080/"
        },
        "id": "rJBRO6Y5VU3b",
        "outputId": "32c8281f-5918-4c77-bec8-371a2ea1f7a0"
      },
      "execution_count": null,
      "outputs": [
        {
          "output_type": "stream",
          "name": "stdout",
          "text": [
            "The company makes of a profit of 800 dollars\n"
          ]
        }
      ]
    },
    {
      "cell_type": "markdown",
      "source": [
        "Q11b (Optional):  Out of the 29 people who took the flight, only 12 buy tickets to return from the Bahamas on the same plane. If the flying the plane back also costs 5000 dollars, and does the company make an overall profit or loss? The company charges the same fee of 200 dollars per ticket for the return flight.\n",
        "\n",
        "Use an if statement to display the result."
      ],
      "metadata": {
        "id": "DLFVOxOpZCyU"
      }
    },
    {
      "cell_type": "code",
      "source": [
        "cost_of_flying_plane = 5000\n",
        "total_number_of_passengers = 29\n",
        "number_of_passengers_who_return = 12\n",
        "price_of_ticket = 200\n",
        "profit = (number_of_passengers_who_return * price_of_ticket) - cost_of_flying_plane\n",
        "if profit > 0 :\n",
        "    print(\"The company makes an overall profit of {} dollars\".format(profit))\n",
        "else:\n",
        "    print(\"The company makes an overall loss of {} dollars\".format(profit))"
      ],
      "metadata": {
        "colab": {
          "base_uri": "https://localhost:8080/"
        },
        "id": "zGzuEdJRZMHj",
        "outputId": "20ecc6f2-40ac-4437-b79c-89be7175c50c"
      },
      "execution_count": null,
      "outputs": [
        {
          "output_type": "stream",
          "name": "stdout",
          "text": [
            "The company makes an overall loss of -2600 dollars\n"
          ]
        }
      ]
    },
    {
      "cell_type": "markdown",
      "source": [
        "#Problem 5 - Twitter Sentiment Analysis\n",
        "Are your ready to perform some Data Analysis with Python? In this problem, we'll analyze some fictional tweets and find out whether the overall sentiment of Twitter users is happy or sad. This is a simplified version of an important real world problem called sentiment analysis.\n",
        "\n",
        "Before we begin, we need a list of tweets to analyze. We're picking a small number of tweets here, but the exact same analysis can also be done for thousands, or even millions of tweets. The collection of data that we perform analysis on is often called a dataset.\n",
        "\n",
        "tweets = [\n",
        "    \"Wow, what a great day today!! #sunshine\",\n",
        "    \"I feel sad about the things going on around us. #covid19\",\n",
        "    \"I'm really excited to learn Python with @JovianML #zerotopandas\",\n",
        "    \"This is a really nice song. #linkinpark\",\n",
        "    \"The python programming language is useful for data science\",\n",
        "    \"Why do bad things happen to me?\",\n",
        "    \"Apple announces the release of the new iPhone 12. Fans are excited.\",\n",
        "    \"Spent my day with family!! #happy\",\n",
        "    \"Check out my blog post on common string operations in Python. #zerotopandas\",\n",
        "    \"Freecodecamp has great coding tutorials. #skillup\"\n",
        "]\n",
        "\n",
        "\n",
        "\n",
        "###Q12: How many tweets does the dataset contain?"
      ],
      "metadata": {
        "id": "x0F34DwraoM0"
      }
    },
    {
      "cell_type": "code",
      "source": [
        "number_of_tweets = 10\n",
        "happy_words = ['great', 'excited', 'happy', 'nice', 'wonderful', 'amazing', 'good', 'best']\n",
        "sad_words = ['sad', 'bad', 'tragic', 'unhappy', 'worst']\n",
        "tweets = [ \"Wow, what a great day today!! #sunshine\", \"I feel sad about the things going on around us. #covid19\", \"I'm really excited to learn Python with @JovianML #zerotopandas\", \"This is a really nice song. #linkinpark\", \"The python programming language is useful for data science\", \"Why do bad things happen to me?\", \"Apple announces the release of the new iPhone 12. Fans are excited.\", \"Spent my day with family!! #happy\", \"Check out my blog post on common string operations in Python. #zerotopandas\", \"Freecodecamp has great coding tutorials. #skillup\" ]\n",
        "\n",
        "sample_tweet = tweets[6]\n",
        "sample_tweet\n",
        "is_tweet_happy = False\n",
        "\n",
        "# Get a word from happy_words\n",
        "for word in happy_words:\n",
        "    # Check if the tweet contains the word\n",
        "    if word in sample_tweet:\n",
        "        # Word found! Mark the tweet as happy\n",
        "        is_tweet_happy = True\n",
        "\n",
        "\n",
        "print(is_tweet_happy)\n",
        "\n",
        "\n"
      ],
      "metadata": {
        "colab": {
          "base_uri": "https://localhost:8080/"
        },
        "id": "FAVee-U-aqs8",
        "outputId": "bf6fecd9-d156-4114-f140-a14361751ad0"
      },
      "execution_count": null,
      "outputs": [
        {
          "output_type": "stream",
          "name": "stdout",
          "text": [
            "True\n"
          ]
        }
      ]
    },
    {
      "cell_type": "markdown",
      "source": [
        "Q13: Determine the number of tweets in the dataset that can be classified as happy."
      ],
      "metadata": {
        "id": "AHhDiKwrj9YL"
      }
    },
    {
      "cell_type": "code",
      "source": [
        "# List of tweets to analyze\n",
        "tweets = [\n",
        "    \"Wow, what a great day today!! #sunshine\",\n",
        "    \"I feel sad about the things going on around us. #covid19\",\n",
        "    \"I'm really excited to learn Python with @JovianML #zerotopandas\",\n",
        "    \"This is a really nice song. #linkinpark\",\n",
        "    \"The python programming language is useful for data science\",\n",
        "    \"Why do bad things happen to me?\",\n",
        "    \"Apple announces the release of the new iPhone 12. Fans are excited.\",\n",
        "    \"Spent my day with family!! #happy\",\n",
        "    \"Check out my blog post on common string operations in Python. #zerotopandas\",\n",
        "    \"Freecodecamp has great coding tutorials. #skillup\"\n",
        "]\n",
        "\n",
        "\n",
        "happy_words = ['great', 'excited', 'happy', 'nice', 'wonderful', 'amazing', 'good', 'best']\n",
        "\n",
        "# Variable to count happy tweets\n",
        "number_of_happy_tweets = 0\n",
        "\n",
        "\n",
        "\n",
        "\n",
        "for tweet in tweets:\n",
        "    for word in happy_words:\n",
        "       if word in tweet:\n",
        "\n",
        "        number_of_happy_tweets += 1\n",
        "        break\n",
        "\n",
        "\n",
        "# Display the result\n",
        "print(\"The number of happy tweets is:\",number_of_happy_tweets)\n"
      ],
      "metadata": {
        "colab": {
          "base_uri": "https://localhost:8080/"
        },
        "id": "BR46fR06j-ro",
        "outputId": "6ba64d50-1442-418f-c416-eb6df5fb6d3e"
      },
      "execution_count": null,
      "outputs": [
        {
          "output_type": "stream",
          "name": "stdout",
          "text": [
            "The number of happy tweets is: 6\n"
          ]
        }
      ]
    },
    {
      "source": [
        "# List of tweets to analyze\n",
        "tweets = [\n",
        "    \"Wow, what a great day today!! #sunshine\",\n",
        "    \"I feel sad about the things going on around us. #covid19\",\n",
        "    \"I'm really excited to learn Python with @JovianML #zerotopandas\",\n",
        "    \"This is a really nice song. #linkinpark\",\n",
        "    \"The python programming language is useful for data science\",\n",
        "    \"Why do bad things happen to me?\",\n",
        "    \"Apple announces the release of the new iPhone 12. Fans are excited.\",\n",
        "    \"Spent my day with family!! #happy\",\n",
        "    \"Check out my blog post on common string operations in Python. #zerotopandas\",\n",
        "    \"Freecodecamp has great coding tutorials. #skillup\"\n",
        "]\n",
        "\n",
        "\n",
        "happy_words = ['great', 'excited', 'happy', 'nice', 'wonderful', 'amazing', 'good', 'best']\n",
        "\n",
        "# Variable to count happy tweets\n",
        "number_of_happy_tweets = 0\n",
        "\n",
        "\n",
        "\n",
        "\n",
        "for tweet in tweets:\n",
        "    for word in happy_words:\n",
        "        if word in tweet:\n",
        "            # Indent this line to be part of the 'if' block\n",
        "            number_of_happy_tweets += 1\n",
        "            break\n",
        "\n",
        "\n",
        "# Display the result\n",
        "print(\"The number of happy tweets is:\",number_of_happy_tweets)"
      ],
      "cell_type": "code",
      "metadata": {
        "colab": {
          "base_uri": "https://localhost:8080/"
        },
        "id": "4HKkMy67n-wr",
        "outputId": "3f7ac3f3-57ff-4a7d-a41e-595dd75a9d71"
      },
      "execution_count": null,
      "outputs": [
        {
          "output_type": "stream",
          "name": "stdout",
          "text": [
            "The number of happy tweets is: 6\n"
          ]
        }
      ]
    },
    {
      "cell_type": "markdown",
      "source": [
        "Q14: What fraction of the total number of tweets are happy?"
      ],
      "metadata": {
        "id": "mmuliEVGoW5J"
      }
    },
    {
      "cell_type": "code",
      "source": [
        "total_number_of_tweets = len(tweets)\n",
        "happy_fraction = number_of_happy_tweets / total_number_of_tweets\n",
        "\n",
        "\n",
        "print(\"The fraction of happy tweets is:\", happy_fraction)"
      ],
      "metadata": {
        "colab": {
          "base_uri": "https://localhost:8080/"
        },
        "id": "xY0AeocyoYL3",
        "outputId": "62704dea-3cee-42a9-ecb2-456525502dec"
      },
      "execution_count": null,
      "outputs": [
        {
          "output_type": "stream",
          "name": "stdout",
          "text": [
            "The fraction of happy tweets is: 0.6\n"
          ]
        }
      ]
    },
    {
      "cell_type": "markdown",
      "source": [
        "Q15:Determine the number of tweets in the dataset that can be classified as sad."
      ],
      "metadata": {
        "id": "YCpvqT7Eo52a"
      }
    },
    {
      "cell_type": "code",
      "source": [
        "# List of tweets to analyze\n",
        "tweets = [\n",
        "    \"Wow, what a great day today!! #sunshine\",\n",
        "    \"I feel sad about the things going on around us. #covid19\",\n",
        "    \"I'm really excited to learn Python with @JovianML #zerotopandas\",\n",
        "    \"This is a really nice song. #linkinpark\",\n",
        "    \"The python programming language is useful for data science\",\n",
        "    \"Why do bad things happen to me?\",\n",
        "    \"Apple announces the release of the new iPhone 12. Fans are excited.\",\n",
        "    \"Spent my day with family!! #happy\",\n",
        "    \"Check out my blog post on common string operations in Python. #zerotopandas\",\n",
        "    \"Freecodecamp has great coding tutorials. #skillup\"\n",
        "]\n",
        "sad_words = ['sad', 'bad', 'tragic', 'unhappy', 'worst']\n",
        "\n",
        "# Variable to count happy tweets\n",
        "number_of_sad_tweets = 0\n",
        "\n",
        "for tweet in tweets:\n",
        "    for word in sad_words:\n",
        "        if word in tweet:\n",
        "           # Indent this line to be part of the 'if' block\n",
        "           number_of_sad_tweets += 1\n",
        "           break\n",
        "\n",
        "\n",
        "print(\"Number of sad tweets:\", number_of_sad_tweets)\n",
        "\n"
      ],
      "metadata": {
        "colab": {
          "base_uri": "https://localhost:8080/"
        },
        "id": "R3CM9UJ9pB14",
        "outputId": "d925b64e-b794-4e6b-ef6e-672c52fb3d36"
      },
      "execution_count": null,
      "outputs": [
        {
          "output_type": "stream",
          "name": "stdout",
          "text": [
            "Number of sad tweets: 2\n"
          ]
        }
      ]
    },
    {
      "cell_type": "markdown",
      "source": [
        "Q16: What fraction of the total number of tweets are sad?"
      ],
      "metadata": {
        "id": "C9GOUoIhrGsK"
      }
    },
    {
      "cell_type": "code",
      "source": [
        "total_number_of_tweets = len(tweets)\n",
        "sad_fraction = number_of_sad_tweets / total_number_of_tweets\n",
        "\n",
        "\n",
        "print(\"The fraction of sad tweets is:\", sad_fraction)"
      ],
      "metadata": {
        "colab": {
          "base_uri": "https://localhost:8080/"
        },
        "id": "cgMy0vAprHZZ",
        "outputId": "b9514f1d-2a2f-4443-f539-78b0f1aa4869"
      },
      "execution_count": null,
      "outputs": [
        {
          "output_type": "stream",
          "name": "stdout",
          "text": [
            "The fraction of sad tweets is: 0.2\n"
          ]
        }
      ]
    },
    {
      "cell_type": "markdown",
      "source": [
        "Q16b (Optional): Calculate the sentiment score, which is defined as the difference betweek the fraction of happy tweets and the fraction of sad tweets."
      ],
      "metadata": {
        "id": "aoKJ3Ud2tG0T"
      }
    },
    {
      "cell_type": "code",
      "source": [
        "tweets = [\n",
        "    \"Wow, what a great day today!! #sunshine\",\n",
        "    \"I feel sad about the things going on around us. #covid19\",\n",
        "    \"I'm really excited to learn Python with @JovianML #zerotopandas\",\n",
        "    \"This is a really nice song. #linkinpark\",\n",
        "    \"The python programming language is useful for data science\",\n",
        "    \"Why do bad things happen to me?\",\n",
        "    \"Apple announces the release of the new iPhone 12. Fans are excited.\",\n",
        "    \"Spent my day with family!! #happy\",\n",
        "    \"Check out my blog post on common string operations in Python. #zerotopandas\",\n",
        "    \"Freecodecamp has great coding tutorials. #skillup\"\n",
        "]\n",
        "\n",
        "# Lists of happy and sad words\n",
        "happy_words = ['great', 'excited', 'happy', 'nice', 'wonderful', 'amazing', 'good', 'best']\n",
        "sad_words = ['sad', 'bad', 'tragic', 'unhappy', 'worst']\n",
        "\n",
        "number_of_tweets = len(tweets)\n",
        "\n",
        "# Initialize counters\n",
        "happy_tweet_count = 0\n",
        "\n",
        "for tweet in tweets:\n",
        "  for word in happy_words:\n",
        "    if word in tweet:\n",
        "      happy_tweet_count += 1\n",
        "\n",
        "      number_of_tweets = len(tweets)\n",
        "\n",
        "      # Calculate the fractions\n",
        "fraction_happy = happy_tweet_count / number_of_tweets if number_of_tweets > 0 else 0\n",
        "print(\"Number of happy tweets:\", happy_tweet_count)\n",
        "\n",
        "\n",
        "# Initialize counters\n",
        "sad_tweet_count = 0\n",
        "\n",
        "for tweet in tweets:\n",
        "  for word in sad_words:\n",
        "    if word in tweet:\n",
        "       sad_tweet_count += 1\n",
        "\n",
        "\n",
        "\n",
        "       # Calculate the fractions\n",
        "fraction_sad = sad_tweet_count / number_of_tweets if number_of_tweets > 0 else 0\n",
        "print(\"Number of sad tweets:\", sad_tweet_count)\n",
        "\n",
        "# Calculate the sentiment score\n",
        "sentiment_score = fraction_happy - fraction_sad\n",
        "\n",
        "print(\"Sentiment score:\", sentiment_score)\n",
        "\n",
        "\n",
        "\n",
        "\n",
        "\n",
        "\n",
        "\n",
        "\n",
        "\n",
        "\n",
        "\n",
        "\n"
      ],
      "metadata": {
        "colab": {
          "base_uri": "https://localhost:8080/"
        },
        "id": "2G4HCrm9tHpi",
        "outputId": "3e4e8c65-e544-4628-d4fb-21740c0e1db2"
      },
      "execution_count": null,
      "outputs": [
        {
          "output_type": "stream",
          "name": "stdout",
          "text": [
            "Number of happy tweets: 6\n",
            "Number of sad tweets: 2\n",
            "Sentiment score: 0.39999999999999997\n"
          ]
        }
      ]
    },
    {
      "cell_type": "markdown",
      "source": [
        "Q16c (Optional): Display whether the overall sentiment of the given dataset of tweets is happy or sad, using the sentiment score."
      ],
      "metadata": {
        "id": "qY-DR67lxo0k"
      }
    },
    {
      "cell_type": "code",
      "source": [
        "if sentiment_score > 0:\n",
        "    overall_sentiment = \"happy\"\n",
        "elif sentiment_score < 0:\n",
        "    overall_sentiment = \"sad\"\n",
        "else:\n",
        "    overall_sentiment = \"neutral\"\n",
        "\n",
        "# Display the overall sentiment\n",
        "print(\"Overall sentiment of the dataset is:\", overall_sentiment)"
      ],
      "metadata": {
        "colab": {
          "base_uri": "https://localhost:8080/"
        },
        "id": "CE4_0vn4xpl6",
        "outputId": "62ff9cf5-b080-4d25-9265-5761eea479f8"
      },
      "execution_count": null,
      "outputs": [
        {
          "output_type": "stream",
          "name": "stdout",
          "text": [
            "Overall sentiment of the dataset is: happy\n"
          ]
        }
      ]
    },
    {
      "cell_type": "markdown",
      "source": [
        "Q16d (Optional): What is the fraction of tweets that are neutral i.e. neither happy nor sad.\n",
        "\n"
      ],
      "metadata": {
        "id": "Lf0QF1S6y34L"
      }
    },
    {
      "cell_type": "code",
      "source": [
        "# List of tweets to analyze\n",
        "tweets = [\n",
        "    \"Wow, what a great day today!! #sunshine\",\n",
        "    \"I feel sad about the things going on around us. #covid19\",\n",
        "    \"I'm really excited to learn Python with @JovianML #zerotopandas\",\n",
        "    \"This is a really nice song. #linkinpark\",\n",
        "    \"The python programming language is useful for data science\",\n",
        "    \"Why do bad things happen to me?\",\n",
        "    \"Apple announces the release of the new iPhone 12. Fans are excited.\",\n",
        "    \"Spent my day with family!! #happy\",\n",
        "    \"Check out my blog post on common string operations in Python. #zerotopandas\",\n",
        "    \"Freecodecamp has great coding tutorials. #skillup\"\n",
        "]\n",
        "\n",
        "# Lists of happy and sad words\n",
        "happy_words = ['great', 'excited', 'happy', 'nice', 'wonderful', 'amazing', 'good', 'best']\n",
        "sad_words = ['sad', 'bad', 'tragic', 'unhappy', 'worst']\n",
        "\n",
        "# Calculate the number of tweets\n",
        "number_of_tweets = len(tweets)\n",
        "\n",
        "# Initialize counters\n",
        "happy_tweet_count = 0\n",
        "sad_tweet_count = 0\n",
        "neutral_tweet_count = 0\n",
        "\n",
        "# Loop through each tweet to classify them\n",
        "for tweet in tweets:\n",
        "    is_happy = any(word in tweet for word in happy_words)\n",
        "    is_sad = any(word in tweet for word in sad_words)\n",
        "\n",
        "    if is_happy:\n",
        "        happy_tweet_count += 1\n",
        "    if is_sad:\n",
        "        sad_tweet_count += 1\n",
        "    if not is_happy and not is_sad:  # Count neutral tweets\n",
        "        neutral_tweet_count += 1\n",
        "\n",
        "# Calculate fractions\n",
        "fraction_happy = happy_tweet_count / number_of_tweets if number_of_tweets > 0 else 0\n",
        "fraction_sad = sad_tweet_count / number_of_tweets if number_of_tweets > 0 else 0\n",
        "fraction_neutral = neutral_tweet_count / number_of_tweets if number_of_tweets > 0 else 0\n",
        "\n",
        "# Calculate the sentiment score\n",
        "sentiment_score = fraction_happy - fraction_sad\n",
        "\n",
        "# Display the results\n",
        "print(\"Number of happy tweets:\", happy_tweet_count)\n",
        "print(\"Number of sad tweets:\", sad_tweet_count)\n",
        "print(\"Number of neutral tweets:\", neutral_tweet_count)\n",
        "print(\"Sentiment score:\", sentiment_score)\n",
        "print(\"Fraction of neutral tweets:\", fraction_neutral)\n"
      ],
      "metadata": {
        "colab": {
          "base_uri": "https://localhost:8080/"
        },
        "id": "bTjjIsYOy7_0",
        "outputId": "08726ec4-1bb0-43c3-e632-d13c76db509e"
      },
      "execution_count": null,
      "outputs": [
        {
          "output_type": "stream",
          "name": "stdout",
          "text": [
            "Number of happy tweets: 6\n",
            "Number of sad tweets: 2\n",
            "Number of neutral tweets: 2\n",
            "Sentiment score: 0.39999999999999997\n",
            "Fraction of neutral tweets: 0.2\n"
          ]
        }
      ]
    }
  ]
}